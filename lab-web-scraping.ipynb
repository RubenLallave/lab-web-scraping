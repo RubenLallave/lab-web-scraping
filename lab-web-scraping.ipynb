{
  "cells": [
    {
      "cell_type": "markdown",
      "id": "7e7a1ab8-2599-417d-9a65-25ef07f3a786",
      "metadata": {
        "id": "7e7a1ab8-2599-417d-9a65-25ef07f3a786"
      },
      "source": [
        "# Lab | Web Scraping"
      ]
    },
    {
      "cell_type": "markdown",
      "id": "ce8882fc-4815-4567-92fa-b4816358ba7d",
      "metadata": {
        "id": "ce8882fc-4815-4567-92fa-b4816358ba7d"
      },
      "source": [
        "Welcome to the \"Books to Scrape\" Web Scraping Adventure Lab!\n",
        "\n",
        "**Objective**\n",
        "\n",
        "In this lab, we will embark on a mission to unearth valuable insights from the data available on Books to Scrape, an online platform showcasing a wide variety of books. As data analyst, you have been tasked with scraping a specific subset of book data from Books to Scrape to assist publishing companies in understanding the landscape of highly-rated books across different genres. Your insights will help shape future book marketing strategies and publishing decisions.\n",
        "\n",
        "**Background**\n",
        "\n",
        "In a world where data has become the new currency, businesses are leveraging big data to make informed decisions that drive success and profitability. The publishing industry, much like others, utilizes data analytics to understand market trends, reader preferences, and the performance of books based on factors such as genre, author, and ratings. Books to Scrape serves as a rich source of such data, offering detailed information about a diverse range of books, making it an ideal platform for extracting insights to aid in informed decision-making within the literary world.\n",
        "\n",
        "**Task**\n",
        "\n",
        "Your task is to create a Python script using BeautifulSoup and pandas to scrape Books to Scrape book data, focusing on book ratings and genres. The script should be able to filter books with ratings above a certain threshold and in specific genres. Additionally, the script should structure the scraped data in a tabular format using pandas for further analysis.\n",
        "\n",
        "**Expected Outcome**\n",
        "\n",
        "A function named `scrape_books` that takes two parameters: `min_rating` and `max_price`. The function should scrape book data from the \"Books to Scrape\" website and return a `pandas` DataFrame with the following columns:\n",
        "\n",
        "**Expected Outcome**\n",
        "\n",
        "- A function named `scrape_books` that takes two parameters: `min_rating` and `max_price`.\n",
        "- The function should return a DataFrame with the following columns:\n",
        "  - **UPC**: The Universal Product Code (UPC) of the book.\n",
        "  - **Title**: The title of the book.\n",
        "  - **Price (£)**: The price of the book in pounds.\n",
        "  - **Rating**: The rating of the book (1-5 stars).\n",
        "  - **Genre**: The genre of the book.\n",
        "  - **Availability**: Whether the book is in stock or not.\n",
        "  - **Description**: A brief description or product description of the book (if available).\n",
        "  \n",
        "You will execute this script to scrape data for books with a minimum rating of `4.0 and above` and a maximum price of `£20`. \n",
        "\n",
        "Remember to experiment with different ratings and prices to ensure your code is versatile and can handle various searches effectively!\n",
        "\n",
        "**Resources**\n",
        "\n",
        "- [Beautiful Soup Documentation](https://www.crummy.com/software/BeautifulSoup/bs4/doc/)\n",
        "- [Pandas Documentation](https://pandas.pydata.org/pandas-docs/stable/index.html)\n",
        "- [Books to Scrape](https://books.toscrape.com/)\n"
      ]
    },
    {
      "cell_type": "markdown",
      "id": "3519921d-5890-445b-9a33-934ed8ee378c",
      "metadata": {
        "id": "3519921d-5890-445b-9a33-934ed8ee378c"
      },
      "source": [
        "**Hint**\n",
        "\n",
        "Your first mission is to familiarize yourself with the **Books to Scrape** website. Navigate to [Books to Scrape](http://books.toscrape.com/) and explore the available books to understand their layout and structure. \n",
        "\n",
        "Next, think about how you can set parameters for your data extraction:\n",
        "\n",
        "- **Minimum Rating**: Focus on books with a rating of 4.0 and above.\n",
        "- **Maximum Price**: Filter for books priced up to £20.\n",
        "\n",
        "After reviewing the site, you can construct a plan for scraping relevant data. Pay attention to the details displayed for each book, including the title, price, rating, and availability. This will help you identify the correct HTML elements to target with your scraping script.\n",
        "\n",
        "Make sure to build your scraping URL and logic based on the patterns you observe in the HTML structure of the book listings!"
      ]
    },
    {
      "cell_type": "markdown",
      "id": "25a83a0d-a742-49f6-985e-e27887cbf922",
      "metadata": {
        "id": "25a83a0d-a742-49f6-985e-e27887cbf922"
      },
      "source": [
        "\n",
        "---\n",
        "\n",
        "**Best of luck! Immerse yourself in the world of books, and may the data be with you!**"
      ]
    },
    {
      "cell_type": "markdown",
      "id": "7b75cf0d-9afa-4eec-a9e2-befeac68b2a0",
      "metadata": {
        "id": "7b75cf0d-9afa-4eec-a9e2-befeac68b2a0"
      },
      "source": [
        "**Important Note**:\n",
        "\n",
        "In the fast-changing online world, websites often update and change their structures. When you try this lab, the **Books to Scrape** website might differ from what you expect.\n",
        "\n",
        "If you encounter issues due to these changes, like new rules or obstacles preventing data extraction, don’t worry! Get creative.\n",
        "\n",
        "You can choose another website that interests you and is suitable for scraping data. Options like Wikipedia, The New York Times, or even library databases are great alternatives. The main goal remains the same: extract useful data and enhance your web scraping skills while exploring a source of information you enjoy. This is your opportunity to practice and adapt to different web environments!"
      ]
    },
    {
      "cell_type": "code",
      "execution_count": 448,
      "id": "40359eee-9cd7-4884-bfa4-83344c222305",
      "metadata": {
        "id": "40359eee-9cd7-4884-bfa4-83344c222305"
      },
      "outputs": [],
      "source": [
        "#Your task is to create a Python script using BeautifulSoup and pandas to scrape Books to Scrape book data, focusing on book ratings and genres. \n",
        "# The script should be able to filter books with ratings above a certain threshold and in specific genres. \n",
        "# Additionally, the script should structure the scraped data in a tabular format using pandas for further analysis.\n",
        "\n",
        "import requests \n",
        "from bs4 import BeautifulSoup\n",
        "import pandas as pd"
      ]
    },
    {
      "cell_type": "code",
      "execution_count": 449,
      "id": "6e79f0b7",
      "metadata": {},
      "outputs": [
        {
          "data": {
            "text/plain": [
              "<Response [200]>"
            ]
          },
          "execution_count": 449,
          "metadata": {},
          "output_type": "execute_result"
        }
      ],
      "source": [
        "\n",
        "\n",
        "url = \"https://books.toscrape.com/\"\n",
        "\n",
        "fetching = requests.get(url)\n",
        "fetching"
      ]
    },
    {
      "cell_type": "code",
      "execution_count": 450,
      "id": "3cd61ff1",
      "metadata": {},
      "outputs": [],
      "source": [
        "soup = BeautifulSoup(fetching.content)"
      ]
    },
    {
      "cell_type": "code",
      "execution_count": 451,
      "id": "4cae3d73",
      "metadata": {},
      "outputs": [
        {
          "data": {
            "text/plain": [
              "20"
            ]
          },
          "execution_count": 451,
          "metadata": {},
          "output_type": "execute_result"
        }
      ],
      "source": [
        "books = soup.find_all(\"article\", attrs= {\"class\": \"product_pod\"})\n",
        "len(books)"
      ]
    },
    {
      "cell_type": "code",
      "execution_count": 452,
      "id": "1529e5a0",
      "metadata": {},
      "outputs": [
        {
          "data": {
            "text/plain": [
              "'Three'"
            ]
          },
          "execution_count": 452,
          "metadata": {},
          "output_type": "execute_result"
        }
      ],
      "source": [
        "books[0].find(\"p\")[\"class\"][1]"
      ]
    },
    {
      "cell_type": "code",
      "execution_count": 453,
      "id": "83ac33c7",
      "metadata": {},
      "outputs": [
        {
          "data": {
            "text/plain": [
              "'51.77'"
            ]
          },
          "execution_count": 453,
          "metadata": {},
          "output_type": "execute_result"
        }
      ],
      "source": [
        "books[0].find_all(\"p\", attrs = {\"class\": \"price_color\"})[0].get_text().replace(\"£\", \"\")"
      ]
    },
    {
      "cell_type": "code",
      "execution_count": 454,
      "id": "b5c1cbdf",
      "metadata": {},
      "outputs": [
        {
          "data": {
            "text/plain": [
              "'In stock'"
            ]
          },
          "execution_count": 454,
          "metadata": {},
          "output_type": "execute_result"
        }
      ],
      "source": [
        "books[0].find_all(\"p\", attrs = {\"class\": \"instock availability\"})[0].get_text().strip()"
      ]
    },
    {
      "cell_type": "code",
      "execution_count": 455,
      "id": "847199b3",
      "metadata": {},
      "outputs": [
        {
          "data": {
            "text/plain": [
              "'A Light in the ...'"
            ]
          },
          "execution_count": 455,
          "metadata": {},
          "output_type": "execute_result"
        }
      ],
      "source": [
        "books[0].find(\"a\", title=True).get_text(\"href\")"
      ]
    },
    {
      "cell_type": "code",
      "execution_count": 456,
      "id": "ce779b73",
      "metadata": {},
      "outputs": [
        {
          "data": {
            "text/plain": [
              "'catalogue/a-light-in-the-attic_1000/index.html'"
            ]
          },
          "execution_count": 456,
          "metadata": {},
          "output_type": "execute_result"
        }
      ],
      "source": [
        "books[0].find(\"a\")[\"href\"]"
      ]
    },
    {
      "cell_type": "code",
      "execution_count": 457,
      "id": "f2dc4832",
      "metadata": {},
      "outputs": [
        {
          "name": "stdout",
          "output_type": "stream",
          "text": [
            "It's Only the Himalayas\n",
            "45.17\n",
            "In stock\n",
            "Two\n",
            "catalogue/its-only-the-himalayas_981/index.html\n",
            "It's Only the Himalayas\n",
            "45.17\n",
            "In stock\n",
            "Two\n",
            "catalogue/its-only-the-himalayas_981/index.html\n",
            "It's Only the Himalayas\n",
            "45.17\n",
            "In stock\n",
            "Two\n",
            "catalogue/its-only-the-himalayas_981/index.html\n",
            "It's Only the Himalayas\n",
            "45.17\n",
            "In stock\n",
            "Two\n",
            "catalogue/its-only-the-himalayas_981/index.html\n",
            "It's Only the Himalayas\n",
            "45.17\n",
            "In stock\n",
            "Two\n",
            "catalogue/its-only-the-himalayas_981/index.html\n",
            "It's Only the Himalayas\n",
            "45.17\n",
            "In stock\n",
            "Two\n",
            "catalogue/its-only-the-himalayas_981/index.html\n",
            "It's Only the Himalayas\n",
            "45.17\n",
            "In stock\n",
            "Two\n",
            "catalogue/its-only-the-himalayas_981/index.html\n",
            "It's Only the Himalayas\n",
            "45.17\n",
            "In stock\n",
            "Two\n",
            "catalogue/its-only-the-himalayas_981/index.html\n",
            "It's Only the Himalayas\n",
            "45.17\n",
            "In stock\n",
            "Two\n",
            "catalogue/its-only-the-himalayas_981/index.html\n",
            "It's Only the Himalayas\n",
            "45.17\n",
            "In stock\n",
            "Two\n",
            "catalogue/its-only-the-himalayas_981/index.html\n",
            "It's Only the Himalayas\n",
            "45.17\n",
            "In stock\n",
            "Two\n",
            "catalogue/its-only-the-himalayas_981/index.html\n",
            "It's Only the Himalayas\n",
            "45.17\n",
            "In stock\n",
            "Two\n",
            "catalogue/its-only-the-himalayas_981/index.html\n",
            "It's Only the Himalayas\n",
            "45.17\n",
            "In stock\n",
            "Two\n",
            "catalogue/its-only-the-himalayas_981/index.html\n",
            "It's Only the Himalayas\n",
            "45.17\n",
            "In stock\n",
            "Two\n",
            "catalogue/its-only-the-himalayas_981/index.html\n",
            "It's Only the Himalayas\n",
            "45.17\n",
            "In stock\n",
            "Two\n",
            "catalogue/its-only-the-himalayas_981/index.html\n",
            "It's Only the Himalayas\n",
            "45.17\n",
            "In stock\n",
            "Two\n",
            "catalogue/its-only-the-himalayas_981/index.html\n",
            "It's Only the Himalayas\n",
            "45.17\n",
            "In stock\n",
            "Two\n",
            "catalogue/its-only-the-himalayas_981/index.html\n",
            "It's Only the Himalayas\n",
            "45.17\n",
            "In stock\n",
            "Two\n",
            "catalogue/its-only-the-himalayas_981/index.html\n",
            "It's Only the Himalayas\n",
            "45.17\n",
            "In stock\n",
            "Two\n",
            "catalogue/its-only-the-himalayas_981/index.html\n",
            "It's Only the Himalayas\n",
            "45.17\n",
            "In stock\n",
            "Two\n",
            "catalogue/its-only-the-himalayas_981/index.html\n"
          ]
        }
      ],
      "source": [
        "for book in books:\n",
        "    print(prod.find(\"a\", title=True).get_text(\"href\"))\n",
        "    print(prod.find_all(\"p\", attrs = {\"class\": \"price_color\"})[0].get_text().replace(\"£\", \"\"))\n",
        "    print(prod.find_all(\"p\", attrs = {\"class\": \"instock availability\"})[0].get_text().strip())\n",
        "    print(prod.find(\"p\")[\"class\"][1])\n",
        "    print(prod.find(\"a\")[\"href\"])"
      ]
    },
    {
      "cell_type": "code",
      "execution_count": 458,
      "id": "181a53f9",
      "metadata": {},
      "outputs": [
        {
          "data": {
            "text/html": [
              "<div>\n",
              "<style scoped>\n",
              "    .dataframe tbody tr th:only-of-type {\n",
              "        vertical-align: middle;\n",
              "    }\n",
              "\n",
              "    .dataframe tbody tr th {\n",
              "        vertical-align: top;\n",
              "    }\n",
              "\n",
              "    .dataframe thead th {\n",
              "        text-align: right;\n",
              "    }\n",
              "</style>\n",
              "<table border=\"1\" class=\"dataframe\">\n",
              "  <thead>\n",
              "    <tr style=\"text-align: right;\">\n",
              "      <th></th>\n",
              "      <th>Title</th>\n",
              "      <th>Price ()</th>\n",
              "      <th>Availability (£)</th>\n",
              "      <th>Rating</th>\n",
              "      <th>Link</th>\n",
              "    </tr>\n",
              "  </thead>\n",
              "  <tbody>\n",
              "    <tr>\n",
              "      <th>0</th>\n",
              "      <td>A Light in the ...</td>\n",
              "      <td>51.77</td>\n",
              "      <td>In stock</td>\n",
              "      <td>Three</td>\n",
              "      <td>https://books.toscrape.com/catalogue/a-light-i...</td>\n",
              "    </tr>\n",
              "    <tr>\n",
              "      <th>1</th>\n",
              "      <td>Tipping the Velvet</td>\n",
              "      <td>53.74</td>\n",
              "      <td>In stock</td>\n",
              "      <td>One</td>\n",
              "      <td>https://books.toscrape.com/catalogue/tipping-t...</td>\n",
              "    </tr>\n",
              "    <tr>\n",
              "      <th>2</th>\n",
              "      <td>Soumission</td>\n",
              "      <td>50.10</td>\n",
              "      <td>In stock</td>\n",
              "      <td>One</td>\n",
              "      <td>https://books.toscrape.com/catalogue/soumissio...</td>\n",
              "    </tr>\n",
              "    <tr>\n",
              "      <th>3</th>\n",
              "      <td>Sharp Objects</td>\n",
              "      <td>47.82</td>\n",
              "      <td>In stock</td>\n",
              "      <td>Four</td>\n",
              "      <td>https://books.toscrape.com/catalogue/sharp-obj...</td>\n",
              "    </tr>\n",
              "    <tr>\n",
              "      <th>4</th>\n",
              "      <td>Sapiens: A Brief History ...</td>\n",
              "      <td>54.23</td>\n",
              "      <td>In stock</td>\n",
              "      <td>Five</td>\n",
              "      <td>https://books.toscrape.com/catalogue/sapiens-a...</td>\n",
              "    </tr>\n",
              "    <tr>\n",
              "      <th>5</th>\n",
              "      <td>The Requiem Red</td>\n",
              "      <td>22.65</td>\n",
              "      <td>In stock</td>\n",
              "      <td>One</td>\n",
              "      <td>https://books.toscrape.com/catalogue/the-requi...</td>\n",
              "    </tr>\n",
              "    <tr>\n",
              "      <th>6</th>\n",
              "      <td>The Dirty Little Secrets ...</td>\n",
              "      <td>33.34</td>\n",
              "      <td>In stock</td>\n",
              "      <td>Four</td>\n",
              "      <td>https://books.toscrape.com/catalogue/the-dirty...</td>\n",
              "    </tr>\n",
              "    <tr>\n",
              "      <th>7</th>\n",
              "      <td>The Coming Woman: A ...</td>\n",
              "      <td>17.93</td>\n",
              "      <td>In stock</td>\n",
              "      <td>Three</td>\n",
              "      <td>https://books.toscrape.com/catalogue/the-comin...</td>\n",
              "    </tr>\n",
              "    <tr>\n",
              "      <th>8</th>\n",
              "      <td>The Boys in the ...</td>\n",
              "      <td>22.60</td>\n",
              "      <td>In stock</td>\n",
              "      <td>Four</td>\n",
              "      <td>https://books.toscrape.com/catalogue/the-boys-...</td>\n",
              "    </tr>\n",
              "    <tr>\n",
              "      <th>9</th>\n",
              "      <td>The Black Maria</td>\n",
              "      <td>52.15</td>\n",
              "      <td>In stock</td>\n",
              "      <td>One</td>\n",
              "      <td>https://books.toscrape.com/catalogue/the-black...</td>\n",
              "    </tr>\n",
              "    <tr>\n",
              "      <th>10</th>\n",
              "      <td>Starving Hearts (Triangular Trade ...</td>\n",
              "      <td>13.99</td>\n",
              "      <td>In stock</td>\n",
              "      <td>Two</td>\n",
              "      <td>https://books.toscrape.com/catalogue/starving-...</td>\n",
              "    </tr>\n",
              "    <tr>\n",
              "      <th>11</th>\n",
              "      <td>Shakespeare's Sonnets</td>\n",
              "      <td>20.66</td>\n",
              "      <td>In stock</td>\n",
              "      <td>Four</td>\n",
              "      <td>https://books.toscrape.com/catalogue/shakespea...</td>\n",
              "    </tr>\n",
              "    <tr>\n",
              "      <th>12</th>\n",
              "      <td>Set Me Free</td>\n",
              "      <td>17.46</td>\n",
              "      <td>In stock</td>\n",
              "      <td>Five</td>\n",
              "      <td>https://books.toscrape.com/catalogue/set-me-fr...</td>\n",
              "    </tr>\n",
              "    <tr>\n",
              "      <th>13</th>\n",
              "      <td>Scott Pilgrim's Precious Little ...</td>\n",
              "      <td>52.29</td>\n",
              "      <td>In stock</td>\n",
              "      <td>Five</td>\n",
              "      <td>https://books.toscrape.com/catalogue/scott-pil...</td>\n",
              "    </tr>\n",
              "    <tr>\n",
              "      <th>14</th>\n",
              "      <td>Rip it Up and ...</td>\n",
              "      <td>35.02</td>\n",
              "      <td>In stock</td>\n",
              "      <td>Five</td>\n",
              "      <td>https://books.toscrape.com/catalogue/rip-it-up...</td>\n",
              "    </tr>\n",
              "    <tr>\n",
              "      <th>15</th>\n",
              "      <td>Our Band Could Be ...</td>\n",
              "      <td>57.25</td>\n",
              "      <td>In stock</td>\n",
              "      <td>Three</td>\n",
              "      <td>https://books.toscrape.com/catalogue/our-band-...</td>\n",
              "    </tr>\n",
              "    <tr>\n",
              "      <th>16</th>\n",
              "      <td>Olio</td>\n",
              "      <td>23.88</td>\n",
              "      <td>In stock</td>\n",
              "      <td>One</td>\n",
              "      <td>https://books.toscrape.com/catalogue/olio_984/...</td>\n",
              "    </tr>\n",
              "    <tr>\n",
              "      <th>17</th>\n",
              "      <td>Mesaerion: The Best Science ...</td>\n",
              "      <td>37.59</td>\n",
              "      <td>In stock</td>\n",
              "      <td>One</td>\n",
              "      <td>https://books.toscrape.com/catalogue/mesaerion...</td>\n",
              "    </tr>\n",
              "    <tr>\n",
              "      <th>18</th>\n",
              "      <td>Libertarianism for Beginners</td>\n",
              "      <td>51.33</td>\n",
              "      <td>In stock</td>\n",
              "      <td>Two</td>\n",
              "      <td>https://books.toscrape.com/catalogue/libertari...</td>\n",
              "    </tr>\n",
              "    <tr>\n",
              "      <th>19</th>\n",
              "      <td>It's Only the Himalayas</td>\n",
              "      <td>45.17</td>\n",
              "      <td>In stock</td>\n",
              "      <td>Two</td>\n",
              "      <td>https://books.toscrape.com/catalogue/its-only-...</td>\n",
              "    </tr>\n",
              "  </tbody>\n",
              "</table>\n",
              "</div>"
            ],
            "text/plain": [
              "                                    Title Price () Availability (£) Rating  \\\n",
              "0                      A Light in the ...    51.77         In stock  Three   \n",
              "1                      Tipping the Velvet    53.74         In stock    One   \n",
              "2                              Soumission    50.10         In stock    One   \n",
              "3                           Sharp Objects    47.82         In stock   Four   \n",
              "4            Sapiens: A Brief History ...    54.23         In stock   Five   \n",
              "5                         The Requiem Red    22.65         In stock    One   \n",
              "6            The Dirty Little Secrets ...    33.34         In stock   Four   \n",
              "7                 The Coming Woman: A ...    17.93         In stock  Three   \n",
              "8                     The Boys in the ...    22.60         In stock   Four   \n",
              "9                         The Black Maria    52.15         In stock    One   \n",
              "10  Starving Hearts (Triangular Trade ...    13.99         In stock    Two   \n",
              "11                  Shakespeare's Sonnets    20.66         In stock   Four   \n",
              "12                            Set Me Free    17.46         In stock   Five   \n",
              "13    Scott Pilgrim's Precious Little ...    52.29         In stock   Five   \n",
              "14                      Rip it Up and ...    35.02         In stock   Five   \n",
              "15                  Our Band Could Be ...    57.25         In stock  Three   \n",
              "16                                   Olio    23.88         In stock    One   \n",
              "17        Mesaerion: The Best Science ...    37.59         In stock    One   \n",
              "18           Libertarianism for Beginners    51.33         In stock    Two   \n",
              "19                It's Only the Himalayas    45.17         In stock    Two   \n",
              "\n",
              "                                                 Link  \n",
              "0   https://books.toscrape.com/catalogue/a-light-i...  \n",
              "1   https://books.toscrape.com/catalogue/tipping-t...  \n",
              "2   https://books.toscrape.com/catalogue/soumissio...  \n",
              "3   https://books.toscrape.com/catalogue/sharp-obj...  \n",
              "4   https://books.toscrape.com/catalogue/sapiens-a...  \n",
              "5   https://books.toscrape.com/catalogue/the-requi...  \n",
              "6   https://books.toscrape.com/catalogue/the-dirty...  \n",
              "7   https://books.toscrape.com/catalogue/the-comin...  \n",
              "8   https://books.toscrape.com/catalogue/the-boys-...  \n",
              "9   https://books.toscrape.com/catalogue/the-black...  \n",
              "10  https://books.toscrape.com/catalogue/starving-...  \n",
              "11  https://books.toscrape.com/catalogue/shakespea...  \n",
              "12  https://books.toscrape.com/catalogue/set-me-fr...  \n",
              "13  https://books.toscrape.com/catalogue/scott-pil...  \n",
              "14  https://books.toscrape.com/catalogue/rip-it-up...  \n",
              "15  https://books.toscrape.com/catalogue/our-band-...  \n",
              "16  https://books.toscrape.com/catalogue/olio_984/...  \n",
              "17  https://books.toscrape.com/catalogue/mesaerion...  \n",
              "18  https://books.toscrape.com/catalogue/libertari...  \n",
              "19  https://books.toscrape.com/catalogue/its-only-...  "
            ]
          },
          "execution_count": 458,
          "metadata": {},
          "output_type": "execute_result"
        }
      ],
      "source": [
        "books_dict = {}\n",
        "index = 0\n",
        "for book in books:\n",
        "        book_name = book.find(\"a\", title=True).get_text(\"href\")\n",
        "        book_price =book.find_all(\"p\", attrs = {\"class\": \"price_color\"})[0].get_text().replace(\"£\", \"\")\n",
        "        book_available =book.find_all(\"p\", attrs = {\"class\": \"instock availability\"})[0].get_text().strip()\n",
        "        book_stars =book.find(\"p\")[\"class\"][1]\n",
        "        book_url = book.find(\"a\")[\"href\"]\n",
        "        base_url = \"https://books.toscrape.com/\"\n",
        "\n",
        "        books_dict[index] = {\"Title\": book_name,\n",
        "                             \"Price ()\": book_price,\n",
        "                             \"Availability (£)\": book_available,\n",
        "                             \"Rating\": book_stars,\n",
        "                             \"Link\": base_url + book_url}\n",
        "        \n",
        "        index += 1\n",
        "\n",
        "books_dict= pd.DataFrame.from_dict(books_dict, orient='index')\n",
        "books_dict"
      ]
    },
    {
      "cell_type": "code",
      "execution_count": 459,
      "id": "f0428ced",
      "metadata": {},
      "outputs": [],
      "source": [
        "#A function named `scrape_books` that takes two parameters: `min_rating` and `max_price`. \n",
        "# The function should scrape book data from the \"Books to Scrape\" website and return a `pandas` DataFrame with the following columns:\n",
        "\n",
        "def scrape_books(min_rating, max_price):\n",
        "    ratings = {'One':1, 'Two':2, 'Three':3, 'Four':4, 'Five':5}\n",
        "    books_dict = {}\n",
        "    index = 0\n",
        "    for book in books:\n",
        "        book_name = book.find(\"a\", title=True).get_text(\"href\")\n",
        "        book_price =float(book.find_all(\"p\", attrs = {\"class\": \"price_color\"})[0].get_text().replace(\"£\", \"\"))\n",
        "        book_available =book.find_all(\"p\", attrs = {\"class\": \"instock availability\"})[0].get_text().strip()\n",
        "        book_stars =book.find(\"p\")[\"class\"][1]\n",
        "        book_url = book.find(\"a\")[\"href\"]\n",
        "        base_url = \"https://books.toscrape.com/\"\n",
        "\n",
        "        if  max_price >= book_price and min_rating <= ratings.get(book_stars):\n",
        "                                 \n",
        "                 books_dict[index] = {\n",
        "                     \"Title\": book_name,\n",
        "                     \"Price ()\": book_price,\n",
        "                     \"Availability (£)\": book_available,\n",
        "                     \"Rating\": book_stars,\n",
        "                     \"Link\": base_url + book_url}\n",
        "                \n",
        "             \n",
        "        \n",
        "        index += 1\n",
        "\n",
        "\n",
        "    books_dict= pd.DataFrame.from_dict(books_dict, orient='index')\n",
        "    \n",
        "    display(books_dict)"
      ]
    },
    {
      "cell_type": "code",
      "execution_count": 460,
      "id": "3f393375",
      "metadata": {},
      "outputs": [
        {
          "data": {
            "text/html": [
              "<div>\n",
              "<style scoped>\n",
              "    .dataframe tbody tr th:only-of-type {\n",
              "        vertical-align: middle;\n",
              "    }\n",
              "\n",
              "    .dataframe tbody tr th {\n",
              "        vertical-align: top;\n",
              "    }\n",
              "\n",
              "    .dataframe thead th {\n",
              "        text-align: right;\n",
              "    }\n",
              "</style>\n",
              "<table border=\"1\" class=\"dataframe\">\n",
              "  <thead>\n",
              "    <tr style=\"text-align: right;\">\n",
              "      <th></th>\n",
              "      <th>Title</th>\n",
              "      <th>Price ()</th>\n",
              "      <th>Availability (£)</th>\n",
              "      <th>Rating</th>\n",
              "      <th>Link</th>\n",
              "    </tr>\n",
              "  </thead>\n",
              "  <tbody>\n",
              "    <tr>\n",
              "      <th>8</th>\n",
              "      <td>The Boys in the ...</td>\n",
              "      <td>22.60</td>\n",
              "      <td>In stock</td>\n",
              "      <td>Four</td>\n",
              "      <td>https://books.toscrape.com/catalogue/the-boys-...</td>\n",
              "    </tr>\n",
              "    <tr>\n",
              "      <th>11</th>\n",
              "      <td>Shakespeare's Sonnets</td>\n",
              "      <td>20.66</td>\n",
              "      <td>In stock</td>\n",
              "      <td>Four</td>\n",
              "      <td>https://books.toscrape.com/catalogue/shakespea...</td>\n",
              "    </tr>\n",
              "    <tr>\n",
              "      <th>12</th>\n",
              "      <td>Set Me Free</td>\n",
              "      <td>17.46</td>\n",
              "      <td>In stock</td>\n",
              "      <td>Five</td>\n",
              "      <td>https://books.toscrape.com/catalogue/set-me-fr...</td>\n",
              "    </tr>\n",
              "  </tbody>\n",
              "</table>\n",
              "</div>"
            ],
            "text/plain": [
              "                    Title  Price () Availability (£) Rating  \\\n",
              "8     The Boys in the ...     22.60         In stock   Four   \n",
              "11  Shakespeare's Sonnets     20.66         In stock   Four   \n",
              "12            Set Me Free     17.46         In stock   Five   \n",
              "\n",
              "                                                 Link  \n",
              "8   https://books.toscrape.com/catalogue/the-boys-...  \n",
              "11  https://books.toscrape.com/catalogue/shakespea...  \n",
              "12  https://books.toscrape.com/catalogue/set-me-fr...  "
            ]
          },
          "metadata": {},
          "output_type": "display_data"
        },
        {
          "data": {
            "text/plain": [
              "None"
            ]
          },
          "metadata": {},
          "output_type": "display_data"
        }
      ],
      "source": [
        "display(scrape_books(4, 30))"
      ]
    }
  ],
  "metadata": {
    "colab": {
      "provenance": []
    },
    "kernelspec": {
      "display_name": "base",
      "language": "python",
      "name": "python3"
    },
    "language_info": {
      "codemirror_mode": {
        "name": "ipython",
        "version": 3
      },
      "file_extension": ".py",
      "mimetype": "text/x-python",
      "name": "python",
      "nbconvert_exporter": "python",
      "pygments_lexer": "ipython3",
      "version": "3.12.7"
    }
  },
  "nbformat": 4,
  "nbformat_minor": 5
}
